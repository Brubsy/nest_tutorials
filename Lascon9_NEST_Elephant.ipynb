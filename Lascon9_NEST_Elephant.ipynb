{
 "cells": [
  {
   "cell_type": "markdown",
   "id": "7820e086",
   "metadata": {},
   "source": [
    "# Showcasing the interface between NEST and Elephant\n",
    "\n",
    "\n",
    "![Elephant](images/nest_logo.png)\n",
    "\n",
    "|||\n",
    "|--:|---|\n",
    "|Homepage|[https://www.nest-simulator.org/](https://www.nest-simulator.org/)  |\n",
    "|GitHub|[https://github.com/nest/nest-simulator](https://github.com/nest/nest-simulator)|\n",
    "|Documentation|[https://nest-simulator.readthedocs.io/en/latest/](https://nest-simulator.readthedocs.io/en/latest/)|\n",
    "|Bug reports|[https://github.com/nest/nest-simulator/issues](https://github.com/nest/nest-simulator/issues) |\n",
    "|conda|[https://anaconda.org/conda-forge/nest-simulator](https://anaconda.org/conda-forge/nest-simulator) |"
   ]
  },
  {
   "cell_type": "markdown",
   "id": "cb2aef7e-90d0-4933-a488-6759e30a2f2d",
   "metadata": {
    "tags": []
   },
   "source": [
    "# Example - NEST script that outputs spike data and is analyzed using Elephant \n",
    "\n",
    "\n",
    "* Simulating a Brunel model (random balanced network) with delta synapses, and outputting spike data to file.\n",
    "* Calculate coefficient of variation and investigate spike train cross-correlations"
   ]
  },
  {
   "cell_type": "code",
   "execution_count": 1,
   "id": "c3989f0e-40d0-4e37-b184-f12240c8fc5b",
   "metadata": {
    "collapsed": false,
    "jupyter": {
     "outputs_hidden": false
    }
   },
   "outputs": [],
   "source": [
    "%matplotlib inline"
   ]
  },
  {
   "cell_type": "markdown",
   "id": "c291a98d-3adb-4b47-9157-4418219e53bf",
   "metadata": {},
   "source": [
    "\n",
    "## 0. NEST: simulate random balanced network (delta synapses)\n",
    "\n",
    "This script simulates an excitatory and an inhibitory population on\n",
    "the basis of the network used in [1]_\n",
    "\n",
    "This example of a random balanced network has been adapted from https://nest-simulator.readthedocs.io/en/v3.2/auto_examples/brunel_delta_nest.html.\n",
    "\n",
    "When connecting the network, customary synapse models are used, which\n",
    "allow for querying the number of created synapses. Using spike\n",
    "recorders, the average firing rates of the neurons in the populations\n",
    "are established.\n",
    "\n",
    "### References\n",
    "\n",
    ".. [1] Brunel N (2000). Dynamics of sparsely connected networks of excitatory and\n",
    "       inhibitory spiking neurons. Journal of Computational Neuroscience 8,\n",
    "       183-208.\n"
   ]
  },
  {
   "cell_type": "markdown",
   "id": "e1ff4fee-33df-42c0-a524-ad4c616dbb46",
   "metadata": {},
   "source": [
    "Import all necessary modules "
   ]
  },
  {
   "cell_type": "code",
   "execution_count": 2,
   "id": "fcafe876-b966-45c6-9244-27bb06362e6d",
   "metadata": {
    "collapsed": false,
    "jupyter": {
     "outputs_hidden": false
    }
   },
   "outputs": [
    {
     "name": "stdout",
     "output_type": "stream",
     "text": [
      "\n",
      "              -- N E S T --\n",
      "  Copyright (C) 2004 The NEST Initiative\n",
      "\n",
      " Version: 3.4\n",
      " Built: May 17 2023 20:48:31\n",
      "\n",
      " This program is provided AS IS and comes with\n",
      " NO WARRANTY. See the file LICENSE for details.\n",
      "\n",
      " Problems or suggestions?\n",
      "   Visit https://www.nest-simulator.org\n",
      "\n",
      " Type 'nest.help()' to find out more about NEST.\n",
      "\n"
     ]
    }
   ],
   "source": [
    "import nest\n",
    "\n",
    "nest.ResetKernel()"
   ]
  },
  {
   "cell_type": "markdown",
   "id": "e880eaba-e4fc-4c64-9c1f-5c4d16ade155",
   "metadata": {},
   "source": [
    "Assigning the simulation parameters to variables.\n",
    "\n"
   ]
  },
  {
   "cell_type": "code",
   "execution_count": 3,
   "id": "ad72b701-310f-49b9-8f1b-67b247722e9d",
   "metadata": {
    "collapsed": false,
    "jupyter": {
     "outputs_hidden": false
    }
   },
   "outputs": [],
   "source": [
    "dt = 0.1  # the resolution in ms\n",
    "simtime = 1000.0  # Simulation time in ms /2000\n",
    "delay = 1.5  # synaptic delay in ms"
   ]
  },
  {
   "cell_type": "markdown",
   "id": "f2b8afb8-7c40-434b-86ec-5513fdb43fd1",
   "metadata": {},
   "source": [
    "Definition of the parameters crucial for asynchronous irregular firing of\n",
    "the neurons.\n",
    "\n"
   ]
  },
  {
   "cell_type": "code",
   "execution_count": 4,
   "id": "0725fd8d-dc2a-4eb0-80d1-d18e22309cbd",
   "metadata": {
    "collapsed": false,
    "jupyter": {
     "outputs_hidden": false
    }
   },
   "outputs": [],
   "source": [
    "case=\"A\"\n",
    "g = 3  # ratio inhibitory weight/excitatory weight\n",
    "eta = 2 # external rate relative to threshold rate\n",
    "\n",
    "# case=\"B\"\n",
    "# g = 6  # ratio inhibitory weight/excitatory weight\n",
    "# eta = 4 # external rate relative to threshold rate\n",
    "\n",
    "# case=\"C\"\n",
    "# g = 5  # ratio inhibitory weight/excitatory weight\n",
    "# eta = 2 # external rate relative to threshold rate\n",
    "\n",
    "# case=\"D\"\n",
    "# g = 4.5  # ratio inhibitory weight/excitatory weight\n",
    "# eta = 0.9 # external rate relative to threshold rate\n",
    "\n",
    "epsilon = 0.1  # connection probability"
   ]
  },
  {
   "cell_type": "markdown",
   "id": "28c5bbf5-ef74-4036-bcf4-1e673f39a39c",
   "metadata": {},
   "source": [
    "Definition of the number of neurons in the network and the number of neurons\n",
    "recorded from\n",
    "\n"
   ]
  },
  {
   "cell_type": "code",
   "execution_count": 5,
   "id": "8c428035-04b4-4f1d-b298-bd35c62c0635",
   "metadata": {
    "collapsed": false,
    "jupyter": {
     "outputs_hidden": false
    }
   },
   "outputs": [],
   "source": [
    "order = 500 # originally 2500 /500\n",
    "NE = 4 * order  # number of excitatory neurons\n",
    "NI = 1 * order  # number of inhibitory neurons\n",
    "N_neurons = NE + NI  # number of neurons in total\n",
    "N_rec = 50  # record from 50 neurons"
   ]
  },
  {
   "cell_type": "markdown",
   "id": "0e05bfe1-1b80-4472-9a0a-25df0658a1a1",
   "metadata": {},
   "source": [
    "Definition of connectivity parameters\n",
    "\n"
   ]
  },
  {
   "cell_type": "code",
   "execution_count": 6,
   "id": "96bc58df-8e91-4726-aa33-a62d28b8aed3",
   "metadata": {
    "collapsed": false,
    "jupyter": {
     "outputs_hidden": false
    }
   },
   "outputs": [],
   "source": [
    "CE = int(epsilon * NE)  # number of excitatory synapses per neuron\n",
    "CI = int(epsilon * NI)  # number of inhibitory synapses per neuron\n",
    "C_tot = int(CI + CE)  # total number of synapses per neuron"
   ]
  },
  {
   "cell_type": "markdown",
   "id": "d284755e-9b79-49c2-9514-86c639ea79ed",
   "metadata": {},
   "source": [
    "Initialization of the parameters of the integrate and fire neuron and the\n",
    "synapses. The parameters of the neuron are stored in a dictionary.\n",
    "\n"
   ]
  },
  {
   "cell_type": "code",
   "execution_count": 7,
   "id": "ee8fe368-9724-40ec-a878-37c9e1e102d3",
   "metadata": {
    "collapsed": false,
    "jupyter": {
     "outputs_hidden": false
    }
   },
   "outputs": [],
   "source": [
    "tauMem = 20.0  # time constant of membrane potential in ms\n",
    "theta = 20.0  # membrane threshold potential in mV\n",
    "neuron_params = {\"C_m\": 1.0,\n",
    "                 \"tau_m\": tauMem,\n",
    "                 \"t_ref\": 2.0,\n",
    "                 \"E_L\": 0.0,\n",
    "                 \"V_reset\": 0.0,\n",
    "                 \"V_m\": 0.0,\n",
    "                 \"V_th\": theta}\n",
    "J = 0.1  # postsynaptic amplitude in mV\n",
    "J_ex = J  # amplitude of excitatory postsynaptic potential\n",
    "J_in = -g * J_ex  # amplitude of inhibitory postsynaptic potential"
   ]
  },
  {
   "cell_type": "markdown",
   "id": "5d6ec304-6ed4-4e13-8015-80273ba9354a",
   "metadata": {},
   "source": [
    "Definition of threshold rate, which is the external rate needed to fix the\n",
    "membrane potential around its threshold, the external firing rate and the\n",
    "rate of the poisson generator which is multiplied by the in-degree CE and\n",
    "converted to Hz by multiplication by 1000.\n",
    "\n"
   ]
  },
  {
   "cell_type": "code",
   "execution_count": 8,
   "id": "711121df-9762-498f-9c1e-d746b9da6ec7",
   "metadata": {
    "collapsed": false,
    "jupyter": {
     "outputs_hidden": false
    }
   },
   "outputs": [],
   "source": [
    "nu_th = theta / (J * CE * tauMem)\n",
    "nu_ex = eta * nu_th\n",
    "p_rate = 1000.0 * nu_ex * CE"
   ]
  },
  {
   "cell_type": "markdown",
   "id": "85c6a71a-a393-4b35-adba-81eb4937adb4",
   "metadata": {},
   "source": [
    "Configuration of the simulation kernel by the previously defined time\n",
    "resolution used in the simulation. \n",
    "\n"
   ]
  },
  {
   "cell_type": "code",
   "execution_count": 9,
   "id": "371f239f-cf84-4926-bfca-a5b65d5feb22",
   "metadata": {
    "collapsed": false,
    "jupyter": {
     "outputs_hidden": false
    }
   },
   "outputs": [
    {
     "name": "stdout",
     "output_type": "stream",
     "text": [
      "Building network\n",
      "\n",
      "Nov 24 09:51:30 SimulationManager::set_status [Info]: \n",
      "    Temporal resolution changed from 0.1 to 0.1 ms.\n"
     ]
    }
   ],
   "source": [
    "nest.resolution = dt\n",
    "nest.overwrite_files = True\n",
    "\n",
    "print(\"Building network\")"
   ]
  },
  {
   "cell_type": "markdown",
   "id": "fbf20f51-8073-48fc-bd7f-19178fd263b9",
   "metadata": {},
   "source": [
    "Creation of the nodes using ``Create``. We store the returned handles in\n",
    "variables for later reference. Here the excitatory and inhibitory, as well\n",
    "as the poisson generator and two spike recorders. The spike recorders will\n",
    "later be used to record excitatory and inhibitory spikes. Properties of the\n",
    "nodes are specified via ``params``, which expects a dictionary.\n",
    "\n"
   ]
  },
  {
   "cell_type": "code",
   "execution_count": 10,
   "id": "f0320f7b-0695-4198-b139-0ede14326d4b",
   "metadata": {
    "collapsed": false,
    "jupyter": {
     "outputs_hidden": false
    }
   },
   "outputs": [],
   "source": [
    "nodes_ex = nest.Create(\"iaf_psc_delta\", NE, params=neuron_params)\n",
    "nodes_in = nest.Create(\"iaf_psc_delta\", NI, params=neuron_params)\n",
    "noise = nest.Create(\"poisson_generator\", params={\"rate\": p_rate})\n",
    "espikes = nest.Create(\"spike_recorder\")\n",
    "ispikes = nest.Create(\"spike_recorder\")"
   ]
  },
  {
   "cell_type": "markdown",
   "id": "1b759958-32f0-4e80-a33a-6a54117746a1",
   "metadata": {},
   "source": [
    "Configuration of the spike recorders recording excitatory and inhibitory\n",
    "spikes by sending parameter dictionaries to ``set``. Setting the property\n",
    "`record_to` to *\"ascii\"* ensures that the spikes will be recorded to a file,\n",
    "whose name starts with the string assigned to the property `label`.\n",
    "\n"
   ]
  },
  {
   "cell_type": "code",
   "execution_count": 11,
   "id": "6fe48bbf-1301-44bc-9df5-86b4ef98cf39",
   "metadata": {
    "collapsed": false,
    "jupyter": {
     "outputs_hidden": false
    }
   },
   "outputs": [
    {
     "name": "stdout",
     "output_type": "stream",
     "text": [
      "Connecting devices\n"
     ]
    }
   ],
   "source": [
    "espikes.set(label=f\"{case}-brunel-py-ex\", record_to=\"ascii\", file_extension=\"gdf\")\n",
    "ispikes.set(label=f\"{case}-brunel-py-in\", record_to=\"ascii\", file_extension=\"gdf\")\n",
    "\n",
    "print(\"Connecting devices\")"
   ]
  },
  {
   "cell_type": "markdown",
   "id": "f42c16da-3236-4b19-bf41-d7f0b1bc6347",
   "metadata": {},
   "source": [
    "Definition of a synapse using ``CopyModel``, which expects the model name of\n",
    "a pre-defined synapse, the name of the customary synapse and an optional\n",
    "parameter dictionary. The parameters defined in the dictionary will be the\n",
    "default parameter for the customary synapse. Here we define one synapse for\n",
    "the excitatory and one for the inhibitory connections giving the\n",
    "previously defined weights and equal delays.\n",
    "\n"
   ]
  },
  {
   "cell_type": "code",
   "execution_count": 12,
   "id": "d3bc0a07-e8d9-4bed-95ba-a4e27e8da154",
   "metadata": {
    "collapsed": false,
    "jupyter": {
     "outputs_hidden": false
    }
   },
   "outputs": [],
   "source": [
    "nest.CopyModel(\"static_synapse\", \"excitatory\",\n",
    "               {\"weight\": J_ex, \"delay\": delay})\n",
    "nest.CopyModel(\"static_synapse\", \"inhibitory\",\n",
    "               {\"weight\": J_in, \"delay\": delay})"
   ]
  },
  {
   "cell_type": "markdown",
   "id": "0d7284b8-eea5-4a52-b171-cd91b2fd25d5",
   "metadata": {},
   "source": [
    "Connecting the previously defined poisson generator to the excitatory and\n",
    "inhibitory neurons using the excitatory synapse. Since the poisson\n",
    "generator is connected to all neurons in the population the default rule\n",
    "(# ``all_to_all``) of ``Connect`` is used. The synaptic properties are inserted\n",
    "via ``syn_spec`` which expects a dictionary when defining multiple variables\n",
    "or a string when simply using a pre-defined synapse.\n",
    "\n"
   ]
  },
  {
   "cell_type": "code",
   "execution_count": 13,
   "id": "efbbdd70-944a-4ba0-87a4-2c8b189f3604",
   "metadata": {
    "collapsed": false,
    "jupyter": {
     "outputs_hidden": false
    }
   },
   "outputs": [],
   "source": [
    "nest.Connect(noise, nodes_ex, syn_spec=\"excitatory\")\n",
    "nest.Connect(noise, nodes_in, syn_spec=\"excitatory\")"
   ]
  },
  {
   "cell_type": "markdown",
   "id": "e05da954-362b-496e-8d0e-fdb5f1fdb6e7",
   "metadata": {},
   "source": [
    "Connecting the first ``N_rec`` nodes of the excitatory and inhibitory\n",
    "population to the associated spike recorders using excitatory synapses.\n",
    "Here the same shortcut for the specification of the synapse as defined\n",
    "above is used.\n",
    "\n"
   ]
  },
  {
   "cell_type": "code",
   "execution_count": 14,
   "id": "c31c394b-2fc0-406b-a9a2-60be5707608e",
   "metadata": {
    "collapsed": false,
    "jupyter": {
     "outputs_hidden": false
    }
   },
   "outputs": [
    {
     "name": "stdout",
     "output_type": "stream",
     "text": [
      "Connecting network\n",
      "Excitatory connections\n"
     ]
    }
   ],
   "source": [
    "nest.Connect(nodes_ex[:N_rec], espikes, syn_spec=\"excitatory\")\n",
    "nest.Connect(nodes_in[:N_rec], ispikes, syn_spec=\"excitatory\")\n",
    "\n",
    "print(\"Connecting network\")\n",
    "\n",
    "print(\"Excitatory connections\")"
   ]
  },
  {
   "cell_type": "markdown",
   "id": "291bca8b-9145-43ae-8aa9-fde64d02a29b",
   "metadata": {},
   "source": [
    "Connecting the excitatory population to all neurons using the pre-defined\n",
    "excitatory synapse. Beforehand, the connection parameter are defined in a\n",
    "dictionary. Here we use the connection rule ``fixed_indegree``,\n",
    "which requires the definition of the indegree. Since the synapse\n",
    "specification is reduced to assigning the pre-defined excitatory synapse it\n",
    "suffices to insert a string.\n",
    "\n"
   ]
  },
  {
   "cell_type": "code",
   "execution_count": 15,
   "id": "b74d5425-1723-4b16-97ce-ce3fb6287888",
   "metadata": {
    "collapsed": false,
    "jupyter": {
     "outputs_hidden": false
    }
   },
   "outputs": [
    {
     "name": "stdout",
     "output_type": "stream",
     "text": [
      "Inhibitory connections\n"
     ]
    }
   ],
   "source": [
    "conn_params_ex = {'rule': 'fixed_indegree', 'indegree': CE}\n",
    "nest.Connect(nodes_ex, nodes_ex + nodes_in, conn_params_ex, \"excitatory\")\n",
    "\n",
    "print(\"Inhibitory connections\")"
   ]
  },
  {
   "cell_type": "markdown",
   "id": "ff1deac7-31fb-4541-88c4-0e7139e963b4",
   "metadata": {},
   "source": [
    "Connecting the inhibitory population to all neurons using the pre-defined\n",
    "inhibitory synapse. The connection parameters as well as the synapse\n",
    "parameters are defined analogously to the connection from the excitatory\n",
    "population defined above.\n",
    "\n"
   ]
  },
  {
   "cell_type": "code",
   "execution_count": 16,
   "id": "bedcb3c7-13fb-4524-a572-014dfff95f56",
   "metadata": {
    "collapsed": false,
    "jupyter": {
     "outputs_hidden": false
    }
   },
   "outputs": [],
   "source": [
    "conn_params_in = {'rule': 'fixed_indegree', 'indegree': CI}\n",
    "nest.Connect(nodes_in, nodes_ex + nodes_in, conn_params_in, \"inhibitory\")"
   ]
  },
  {
   "cell_type": "markdown",
   "id": "2a0308e3-bb90-48e7-8857-860f9938e1fe",
   "metadata": {},
   "source": [
    "Simulation of the network.\n",
    "\n"
   ]
  },
  {
   "cell_type": "code",
   "execution_count": 17,
   "id": "e666a00a-8dcd-434b-a05d-9d651a040f00",
   "metadata": {
    "collapsed": false,
    "jupyter": {
     "outputs_hidden": false
    }
   },
   "outputs": [
    {
     "name": "stdout",
     "output_type": "stream",
     "text": [
      "Simulating\n",
      "\n",
      "May 02 11:03:58 NodeManager::prepare_nodes [Info]: \n",
      "    Preparing 2503 nodes for simulation.\n",
      "\n",
      "May 02 11:03:58 SimulationManager::run [Warning]: \n",
      "    The requested simulation time is not an integer multiple of the minimal \n",
      "    delay in the network. This may result in inconsistent results under the \n",
      "    following conditions: (i) A network contains more than one source of \n",
      "    randomness, e.g., two different poisson_generators, and (ii) Simulate is \n",
      "    called repeatedly with simulation times that are not multiples of the \n",
      "    minimal delay.\n",
      "\n",
      "May 02 11:03:58 SimulationManager::start_updating_ [Info]: \n",
      "    Number of local nodes: 2503\n",
      "    Simulation time (ms): 1000\n",
      "    Number of OpenMP threads: 1\n",
      "    Number of MPI processes: 1\n",
      "\n",
      "May 02 11:04:03 SimulationManager::run [Info]: \n",
      "    Simulation finished.\n"
     ]
    }
   ],
   "source": [
    "print(\"Simulating\")\n",
    "\n",
    "nest.Simulate(simtime)"
   ]
  },
  {
   "cell_type": "markdown",
   "id": "20424db7-4ecd-48a3-8e44-9811b0dfd156",
   "metadata": {},
   "source": [
    "Storage of the time point after the simulation of the network in a variable.\n",
    "\n"
   ]
  },
  {
   "cell_type": "markdown",
   "id": "e97e2135-e995-4d16-a777-89c31f2107dc",
   "metadata": {
    "tags": []
   },
   "source": [
    "## 1. Processing NEST data with Elephant\n",
    "In the following we load the simulation data generated with NEST and perform anaysis with Elephant (Electrophysiology Analysis Toolkit)."
   ]
  },
  {
   "cell_type": "markdown",
   "id": "e9c93f69-4c03-4235-8b93-657799488646",
   "metadata": {},
   "source": [
    "---\n",
    "### Hotfix: delete descriptive meta-data header prior to data\n",
    "\n",
    "**with NEST 3.0 the following changes occured:** \\\n",
    "*In addition, most backends now write the name of the recorded variable for each column as a descriptive meta-data header prior to writing any data.\\\n",
    "see: (https://nest-simulator.readthedocs.io/en/v3.1/release_notes/v3.0/features/recording_simulations.html?highlight=meta-data)*\n",
    "\n",
    "In order to use the `neo.io.nestio` the meta-data header for each column needs to be removed.\n",
    "\n",
    "NestIO was developed with NEST 2.10.0, see `nestio.py`:\\\n",
    "*Class for reading output files from NEST simulations\n",
    "( http://www.nest-simulator.org/ ).* \\\n",
    "**Tested with NEST 2.10.0** \\\n",
    "*Depends on: numpy, quantities* \\\n",
    "*Supported: Read* \\\n",
    "*Authors: Julia Sprenger, Maximilian Schmidt, Johanna Senk*\n",
    "\n",
    "Until the IO for NEST in Neo is updated, the following hotfix is applied to the `.gdf`-files:\\\n",
    "(*once Neo is updated, simply remove* `'no_header_'`)"
   ]
  },
  {
   "cell_type": "code",
   "execution_count": null,
   "id": "ed65043b-f734-443f-b9b5-610bdf3e8ec0",
   "metadata": {},
   "outputs": [],
   "source": [
    "## The follwoing lines remove the header from the .gdf files:\n",
    "#\n",
    "# gdf_files=[f'{case}-brunel-py-ex-12502-0.gdf',f'{case}-brunel-py-in-12503-0.gdf']\n",
    "# prefix= f'{case}-no_header_'\n",
    "# for file in gdf_files:\n",
    "#     !tail -n +4 {file}>{prefix+file} # start at line 4 and save file."
   ]
  },
  {
   "cell_type": "markdown",
   "id": "c40a36f2-bcba-4397-ae4d-af586417eee1",
   "metadata": {},
   "source": [
    "---"
   ]
  },
  {
   "cell_type": "markdown",
   "id": "ffe00b5a-2486-4438-9c69-9702e55857ed",
   "metadata": {},
   "source": [
    "### 1.1 Load simulation data \n",
    "\n",
    "In this example the data resulting from the NEST simulation, the `.gdf` files are loaded using the nestIO from **Neo** package.\n",
    "\n",
    "```\n",
    "# NEST version: 3.3\n",
    "# RecordingBackendASCII version: 2\n",
    "sender\ttime_ms\n",
    "10\t13.400\n",
    "3\t14.200\n",
    "4\t14.800\n",
    "6\t14.700\n",
    "7\t14.900\n",
    "9\t15.000\n",
    "11\t14.300\n",
    "12\t13.800\n",
    "13\t14.600\n",
    "15\t14.900\n",
    "16\t14.300\n",
    "27\t14.800\n",
    "```"
   ]
  },
  {
   "cell_type": "markdown",
   "id": "4c5ac96c",
   "metadata": {},
   "source": [
    "See also: https://neo.readthedocs.io/en/stable/io.html#neo.io.NestIO"
   ]
  },
  {
   "cell_type": "code",
   "execution_count": 19,
   "id": "6928e585-a812-40e6-ad7e-1873d9ddf683",
   "metadata": {},
   "outputs": [],
   "source": [
    "from neo.io.nestio import NestIO\n",
    "import quantities as pq\n",
    "\n",
    "IO = NestIO('../data/simulation_data/A-no_header_A-brunel-py-ex-12502-0.gdf')\n",
    "segment_A = IO.read_segment(\n",
    "                     gid_list=[], # empty list to retrieve spiketrains from all neurons\n",
    "                     t_start=0 * pq.ms,\n",
    "                     t_stop=2000 * pq.ms,\n",
    "                     id_column_gdf=0,  # column 0 contains the neuron ID\n",
    "                     time_column_gdf=1, # column 1 contains the times in ms\n",
    "                     )"
   ]
  },
  {
   "cell_type": "code",
   "execution_count": 20,
   "id": "ecb1fff8",
   "metadata": {},
   "outputs": [],
   "source": [
    "IO = NestIO('../data/simulation_data/B-no_header_B-brunel-py-ex-12502-0.gdf')\n",
    "segment_B = IO.read_segment(\n",
    "                     gid_list=[], # empty list to retrieve spiketrains from all neurons\n",
    "                     t_start=0 * pq.ms,\n",
    "                     t_stop=2000 * pq.ms,\n",
    "                     id_column_gdf=0,  # column 0 contains the neuron ID\n",
    "                     time_column_gdf=1, # column 1 contains the times in ms\n",
    "                     )\n",
    "IO = NestIO('../data/simulation_data/C-no_header_C-brunel-py-ex-12502-0.gdf')\n",
    "segment_C = IO.read_segment(\n",
    "                     gid_list=[], # empty list to retrieve spiketrains from all neurons\n",
    "                     t_start=0 * pq.ms,\n",
    "                     t_stop=2000 * pq.ms,\n",
    "                     id_column_gdf=0,  # column 0 contains the neuron ID\n",
    "                     time_column_gdf=1, # column 1 contains the times in ms\n",
    "                     )\n",
    "IO = NestIO('../data/simulation_data/D-no_header_D-brunel-py-ex-12502-0.gdf')\n",
    "segment_D = IO.read_segment(\n",
    "                     gid_list=[], # empty list to retrieve spiketrains from all neurons\n",
    "                     t_start=0 * pq.ms,\n",
    "                     t_stop=2000 * pq.ms,\n",
    "                     id_column_gdf=0,  # column 0 contains the neuron ID\n",
    "                     time_column_gdf=1, # column 1 contains the times in ms\n",
    "                     )"
   ]
  },
  {
   "cell_type": "markdown",
   "id": "4b62baf2",
   "metadata": {},
   "source": [
    "### 1.2 Visualize simulation data\n",
    "\n",
    "The following example makes use of Viziphants `eventplot` function to get an overview of the simuation results."
   ]
  },
  {
   "cell_type": "markdown",
   "id": "786fda45",
   "metadata": {},
   "source": [
    "See also: https://viziphant.readthedocs.io/en/latest/toctree/rasterplot/viziphant.rasterplot.eventplot.html#viziphant.rasterplot.eventplot"
   ]
  },
  {
   "cell_type": "code",
   "execution_count": 21,
   "id": "2fdc5805",
   "metadata": {},
   "outputs": [
    {
     "data": {
      "image/png": "[encoded data removed]",
      "text/plain": [
       "<Figure size 720x720 with 4 Axes>"
      ]
     },
     "metadata": {
      "needs_background": "light"
     },
     "output_type": "display_data"
    }
   ],
   "source": [
    "from viziphant.rasterplot import eventplot\n",
    "import matplotlib.pyplot as plt\n",
    "from matplotlib.pyplot import gcf, gca\n",
    "\n",
    "plt.subplot(2, 2, 1)\n",
    "axes=eventplot(segment_A.spiketrains, linelengths=1, color='black', axes=gca())\n",
    "axes.set_xlim(500,600)\n",
    "axes.set_ylim(-1,50)\n",
    "axes.set_ylabel('A')\n",
    "\n",
    "plt.subplot(2, 2, 2)\n",
    "axes=eventplot(segment_B.spiketrains, linelengths=1, color='black', axes=gca())\n",
    "axes.set_xlim(1000,1200)\n",
    "axes.set_ylim(-1,50)\n",
    "axes.set_ylabel('B')\n",
    "\n",
    "plt.subplot(2, 2, 3)\n",
    "axes=eventplot(segment_C.spiketrains, linelengths=1, color='black', axes=gca())\n",
    "axes.set_xlim(1000,1200)\n",
    "axes.set_ylim(-1,50)\n",
    "axes.set_ylabel('C')\n",
    "\n",
    "plt.subplot(2, 2, 4)\n",
    "axes=eventplot(segment_D.spiketrains, linelengths=1, color='black', axes=gca())\n",
    "axes.set_xlim(1000,1200)\n",
    "axes.set_ylim(-1,50)\n",
    "axes.set_ylabel('D')\n",
    "\n",
    "fig=gcf()\n",
    "fig.set_size_inches(10,10)"
   ]
  },
  {
   "cell_type": "markdown",
   "id": "0e427eaf",
   "metadata": {},
   "source": [
    "The following descriptions for A, B, C, and D are taken from [1]: \n",
    "\n",
    "- A: Almost fully synchronized network, neurons firing regularly at high rates\n",
    "- B: Fast oscillation of the global activity, neurons firing irregularly at a rate that is lower than the global frequency\n",
    "- C: Stationary global activity, irregularly firing neurons\n",
    "- D: Slow oscillation of the global activity, neurons firing irregularly at very low rates\n",
    "\n",
    "How do those results compare to the results in source [1] ?\n",
    "\n",
    "\n",
    "[1] Brunel N (2000). Dynamics of sparsely connected networks of excitatory and\n",
    "       inhibitory spiking neurons. Journal of Computational Neuroscience 8,\n",
    "       183-208."
   ]
  },
  {
   "cell_type": "markdown",
   "id": "0ede8622",
   "metadata": {},
   "source": [
    "### 1.3 Coefficient of Variation (CV)\n",
    "In this section we will have a look at the coefficient of variation (CV), a measure of the variability of inter-spike intervals.\n",
    "(spike train that is modeled as a random (stochastic) Poisson process has a CV of 1)\n",
    "\n",
    "To calculate the distribution of the CVs obtained from inter-spike intervals (ISIs) of the simulated spike trains, we do the following:\n",
    "\n",
    "- For each spike train, we first call elephants' `isi()` function which returns an array of all N-1 ISIs for the N spikes in the input spike train. \n",
    "- We then feed the list of ISIs into the `cv()` function, which returns a single value for the coefficient of variation."
   ]
  },
  {
   "cell_type": "markdown",
   "id": "1f189640",
   "metadata": {},
   "source": [
    "See also:\n",
    "- `isi()`: https://elephant.readthedocs.io/en/latest/reference/_toctree/statistics/elephant.statistics.isi.html#elephant.statistics.isi\n",
    "- `cv()`: https://elephant.readthedocs.io/en/latest/reference/_toctree/statistics/elephant.statistics.cv.html#elephant.statistics.cv"
   ]
  },
  {
   "cell_type": "code",
   "execution_count": 22,
   "id": "0ef4aee9",
   "metadata": {},
   "outputs": [
    {
     "name": "stdout",
     "output_type": "stream",
     "text": [
      "[6.6 5.7 5.1 5.4 4.9 5.3 5.9 4.6 4.7 5.1 5.3 5.3 5.  5.  5.  5.2 5.2 5.\n",
      " 5.1] ms\n"
     ]
    }
   ],
   "source": [
    "from elephant.statistics import isi, cv\n",
    "# calculate inter-spike intervals for the first spike train\n",
    "print(isi(segment_A.spiketrains[0])[1:20]) "
   ]
  },
  {
   "cell_type": "code",
   "execution_count": 23,
   "id": "10c20b8c",
   "metadata": {},
   "outputs": [
    {
     "name": "stdout",
     "output_type": "stream",
     "text": [
      "[0.05365918694441147, 0.05842274732773983, 0.059250517400670354, 0.05214580130596291, 0.050847044837237135, 0.05060558092032044, 0.05330605601380723, 0.05658901823907235, 0.054583570070382184, 0.05684812500177874, 0.05088318480424918, 0.05672717009945042, 0.05713916820608826, 0.05790660466497289, 0.04834790725558421, 0.05273128217027347, 0.054580874407185814, 0.057038102986292194, 0.060156882820013316]\n"
     ]
    }
   ],
   "source": [
    "# calculate the the coefficients of variation for all spiketrains in case A\n",
    "cv_list = [cv(isi(spiketrain)) for spiketrain in segment_A.spiketrains] \n",
    "print (cv_list[1:20])"
   ]
  },
  {
   "cell_type": "markdown",
   "id": "398c4879",
   "metadata": {},
   "source": [
    "In the follwoing we create a histogram of the CVs for all cases (A, B, C and D)."
   ]
  },
  {
   "cell_type": "code",
   "execution_count": 24,
   "id": "1c6e2920",
   "metadata": {},
   "outputs": [
    {
     "data": {
      "image/png": "[encoded data removed]",
      "text/plain": [
       "<Figure size 720x720 with 4 Axes>"
      ]
     },
     "metadata": {
      "needs_background": "light"
     },
     "output_type": "display_data"
    }
   ],
   "source": [
    "x_limits=(0,1)\n",
    "y_limits=(0,20)\n",
    "\n",
    "plt.subplot(2, 2, 1)\n",
    "plt.hist(cv_list)\n",
    "plt.xlim(x_limits)\n",
    "plt.ylim(y_limits)\n",
    "plt.xlabel('CV')\n",
    "plt.ylabel('count')\n",
    "plt.title(\"Coefficient of Variation case A\")\n",
    "\n",
    "plt.subplot(2, 2, 2)\n",
    "plt.hist([cv(isi(spiketrain)) for spiketrain in segment_B.spiketrains])\n",
    "plt.xlim(x_limits)\n",
    "plt.ylim(y_limits)\n",
    "plt.xlabel('CV')\n",
    "plt.ylabel('count')\n",
    "plt.title(\"Coefficient of Variation case B\")\n",
    "\n",
    "plt.subplot(2, 2, 3)\n",
    "plt.hist([cv(isi(spiketrain)) for spiketrain in segment_C.spiketrains])\n",
    "plt.xlim(x_limits)\n",
    "plt.ylim(y_limits)\n",
    "plt.xlabel('CV')\n",
    "plt.ylabel('count')\n",
    "plt.title(\"Coefficient of Variation case C\")\n",
    "\n",
    "plt.subplot(2, 2, 4)\n",
    "plt.hist([cv(isi(spiketrain)) for spiketrain in segment_D.spiketrains])\n",
    "plt.xlim(x_limits)\n",
    "plt.ylim(y_limits)\n",
    "plt.xlabel('CV')\n",
    "plt.ylabel('count')\n",
    "plt.title(\"Coefficient of Variation case D\")\n",
    "\n",
    "fig=gcf()\n",
    "fig.set_size_inches(10,10)"
   ]
  },
  {
   "cell_type": "markdown",
   "id": "21a71b93-d0d5-4205-af6a-21fd08c51b29",
   "metadata": {},
   "source": [
    "### 1.4 Cross-correlation\n",
    "\n",
    "Lets assess if there are correlations between the spike trains.\n",
    "\n",
    "To investigate that, Elephant provides functions to calculate and plot the cross-correlation matrix. This matrix quantifies the similarity for each pair of spike trains in the trial. "
   ]
  },
  {
   "cell_type": "markdown",
   "id": "fe806b09",
   "metadata": {},
   "source": [
    "**Binning**\n",
    "\n",
    "We start by binning the spike trains. Let's use a bin size of 3 ms. With this, we are obtaining the number of spikes that occurred during small intervals."
   ]
  },
  {
   "cell_type": "markdown",
   "id": "25278648",
   "metadata": {},
   "source": [
    "See also:\n",
    "- BinnedSpikeTrain: https://elephant.readthedocs.io/en/latest/reference/_toctree/conversion/elephant.conversion.BinnedSpikeTrain.html#elephant.conversion.BinnedSpikeTrain"
   ]
  },
  {
   "cell_type": "code",
   "execution_count": 25,
   "id": "4f438dd0-70d5-44d7-b3d0-8e9aed471841",
   "metadata": {},
   "outputs": [
    {
     "name": "stdout",
     "output_type": "stream",
     "text": [
      "Total number of bins: 666\n"
     ]
    },
    {
     "name": "stderr",
     "output_type": "stream",
     "text": [
      "/srv/main-spack-instance-2302/spack/var/spack/environments/ebrains-23-02/.spack-env/view/lib/python3.8/site-packages/elephant/conversion.py:1170: UserWarning:Binning discarded 23 last spike(s) of the input spiketrain\n"
     ]
    }
   ],
   "source": [
    "from elephant import conversion\n",
    "binned_spiketrains_A = conversion.BinnedSpikeTrain(\n",
    "                                                segment_A.spiketrains, \n",
    "                                                binsize=3*pq.ms\n",
    "                                                )\n",
    "print(\"Total number of bins: \"+str(binned_spiketrains_A.n_bins))"
   ]
  },
  {
   "cell_type": "markdown",
   "id": "c8c32ce7-a246-454d-93f2-de8aa1cfcaf5",
   "metadata": {},
   "source": [
    "If we inspect the spike times of one neuron, we can see that if the neuron fired in a particular bin,\n",
    "the `BinnedSpikeTrain` object will store the value 1."
   ]
  },
  {
   "cell_type": "code",
   "execution_count": 26,
   "id": "6c033582-d2d3-48c0-a777-64d12e9e690e",
   "metadata": {},
   "outputs": [
    {
     "name": "stdout",
     "output_type": "stream",
     "text": [
      "Timepoints in ms where spike occured\n",
      "[13.9 18.1 24.7 30.4 35.5 40.9 45.8 51.1] ms\n",
      "Timepoints in ms of bin edges\n",
      "[ 0.  3.  6.  9. 12. 15. 18. 21. 24. 27. 30. 33. 36. 39. 42. 45. 48. 51.\n",
      " 54. 57.] ms\n",
      "Binned spiketrain\n",
      "[0 0 0 0 1 0 1 0 1 0 1 1 0 1 0 1 0 1 0 1]\n"
     ]
    }
   ],
   "source": [
    "print(\"Timepoints in ms where spike occured\")\n",
    "spiketrain_id=0\n",
    "print(segment_A.spiketrains[spiketrain_id][0:8])\n",
    "print(\"Timepoints in ms of bin edges\")\n",
    "print(binned_spiketrains_A[spiketrain_id].bin_edges[0:20])\n",
    "print(\"Binned spiketrain\")\n",
    "print(binned_spiketrains_A[spiketrain_id].to_array()[0,0:20])"
   ]
  },
  {
   "cell_type": "markdown",
   "id": "b6121418-a6ae-4d7f-81de-0e836c8715b3",
   "metadata": {},
   "source": [
    "**cross-correlation matrix**\n",
    "\n",
    "Then we calculate the cross-correlation matrix of the binned spikes using the `correlation_coefficient`\n",
    "function from the `spike_train_correlation` module."
   ]
  },
  {
   "cell_type": "markdown",
   "id": "09743132",
   "metadata": {},
   "source": [
    "See also: https://elephant.readthedocs.io/en/latest/reference/_toctree/spike_train_correlation/elephant.spike_train_correlation.correlation_coefficient.html#elephant.spike_train_correlation.correlation_coefficient"
   ]
  },
  {
   "cell_type": "code",
   "execution_count": 27,
   "id": "65f496c7-f535-4587-b78b-e36346f02af1",
   "metadata": {},
   "outputs": [],
   "source": [
    "from elephant import spike_train_correlation\n",
    "cross_corr_matrix_A = spike_train_correlation.correlation_coefficient(binned_spiketrains_A)"
   ]
  },
  {
   "cell_type": "markdown",
   "id": "271d7a75",
   "metadata": {},
   "source": [
    "Calculate the cross-correlation for the other cases."
   ]
  },
  {
   "cell_type": "code",
   "execution_count": 28,
   "id": "e9d48e2e",
   "metadata": {},
   "outputs": [
    {
     "name": "stderr",
     "output_type": "stream",
     "text": [
      "/srv/main-spack-instance-2302/spack/var/spack/environments/ebrains-23-02/.spack-env/view/lib/python3.8/site-packages/elephant/conversion.py:1170: UserWarning:Binning discarded 1 last spike(s) of the input spiketrain\n",
      "/srv/main-spack-instance-2302/spack/var/spack/environments/ebrains-23-02/.spack-env/view/lib/python3.8/site-packages/elephant/conversion.py:1170: UserWarning:Binning discarded 3 last spike(s) of the input spiketrain\n"
     ]
    }
   ],
   "source": [
    "# Case B\n",
    "binned_spiketrains_B = conversion.BinnedSpikeTrain( # binning\n",
    "                                                segment_B.spiketrains, \n",
    "                                                binsize=3*pq.ms\n",
    "                                                )\n",
    "cross_corr_matrix_B = spike_train_correlation.correlation_coefficient(binned_spiketrains_B) # calculate the cross-correlation matrix\n",
    "# Case C\n",
    "binned_spiketrains_C = conversion.BinnedSpikeTrain( # binning\n",
    "                                                segment_C.spiketrains, \n",
    "                                                binsize=3*pq.ms\n",
    "                                                )\n",
    "cross_corr_matrix_C = spike_train_correlation.correlation_coefficient(binned_spiketrains_C) # calculate the cross-correlation matrix\n",
    "# Case D\n",
    "binned_spiketrains_D = conversion.BinnedSpikeTrain( # binning\n",
    "                                                segment_D.spiketrains, \n",
    "                                                binsize=3*pq.ms\n",
    "                                                )\n",
    "cross_corr_matrix_D = spike_train_correlation.correlation_coefficient(binned_spiketrains_D) # calculate the cross-correlation matrix"
   ]
  },
  {
   "cell_type": "markdown",
   "id": "da769643-a05b-4ac9-8f5f-f47d253d4e22",
   "metadata": {},
   "source": [
    "### Viziphant\n",
    "We visualize the matrix using the `plot_corrcoef` function of Viziphant. To compare the coefficients, we will set correlation_range to fixed values, to use the color bar only in the same range for all cases. We will also not plot the values along the main diagonal, as those are equal to 1, by setting remove_diagonal to True."
   ]
  },
  {
   "cell_type": "markdown",
   "id": "5615b238",
   "metadata": {},
   "source": [
    "See also: https://viziphant.readthedocs.io/en/latest/toctree/spike_train_correlation/viziphant.spike_train_correlation.plot_corrcoef.html#viziphant.spike_train_correlation.plot_corrcoef"
   ]
  },
  {
   "cell_type": "code",
   "execution_count": 29,
   "id": "c492935d",
   "metadata": {},
   "outputs": [
    {
     "data": {
      "image/png": "[encoded data removed]",
      "text/plain": [
       "<Figure size 792x792 with 8 Axes>"
      ]
     },
     "metadata": {
      "needs_background": "light"
     },
     "output_type": "display_data"
    }
   ],
   "source": [
    "from viziphant.spike_train_correlation import plot_corrcoef\n",
    "correlation_range=(-0.4,0.4)\n",
    "\n",
    "plt.subplot(2, 2, 1)\n",
    "axes=plot_corrcoef(cross_corr_matrix_A, axes=gca(), correlation_range=correlation_range,remove_diagonal=True)\n",
    "axes.set_xlabel('Neuron')\n",
    "axes.set_ylabel('Neuron')\n",
    "axes.set_title(\"Correlation coefficient matrix case A\");\n",
    "\n",
    "plt.subplot(2, 2, 2)\n",
    "axes=plot_corrcoef(cross_corr_matrix_B, axes=gca(), correlation_range=correlation_range,remove_diagonal=True)\n",
    "axes.set_xlabel('Neuron')\n",
    "axes.set_title(\"Correlation coefficient matrix case B\");\n",
    "\n",
    "plt.subplot(2, 2, 3)\n",
    "axes=plot_corrcoef(cross_corr_matrix_C, axes=gca(), correlation_range=correlation_range,remove_diagonal=True)\n",
    "axes.set_xlabel('Neuron')\n",
    "axes.set_ylabel('Neuron')\n",
    "axes.set_title(\"Correlation coefficient matrix case C\");\n",
    "\n",
    "plt.subplot(2, 2, 4)\n",
    "axes=plot_corrcoef(cross_corr_matrix_D, axes=gca(), correlation_range=correlation_range,remove_diagonal=True)\n",
    "axes.set_xlabel('Neuron')\n",
    "axes.set_title(\"Correlation coefficient matrix case D\");\n",
    "\n",
    "fig=gcf()\n",
    "fig.set_size_inches(11,11)"
   ]
  },
  {
   "cell_type": "markdown",
   "id": "067d29e2",
   "metadata": {},
   "source": [
    "### 1.5 Spike train distance Victor-Purpura’s (VP) distance\n",
    "\n",
    "Lets investigate the similarity of the spike trains.\n",
    "\n",
    "To investigate that, Elephant provides different spike train similarity measures. In this case we will use the Victor-Purpura distance."
   ]
  },
  {
   "cell_type": "markdown",
   "id": "c9dbac21",
   "metadata": {},
   "source": [
    "See also: https://elephant.readthedocs.io/en/latest/reference/_toctree/spike_train_dissimilarity/elephant.spike_train_dissimilarity.victor_purpura_distance.html"
   ]
  },
  {
   "cell_type": "code",
   "execution_count": 30,
   "id": "7c868555",
   "metadata": {},
   "outputs": [],
   "source": [
    "from elephant.spike_train_dissimilarity import victor_purpura_distance\n",
    "pairwise_vp_distance_A = victor_purpura_distance(segment_A.spiketrains)"
   ]
  },
  {
   "cell_type": "code",
   "execution_count": 31,
   "id": "19605a82",
   "metadata": {},
   "outputs": [],
   "source": [
    "pairwise_vp_distance_B = victor_purpura_distance(segment_B.spiketrains)\n",
    "pairwise_vp_distance_C = victor_purpura_distance(segment_C.spiketrains)\n",
    "pairwise_vp_distance_D = victor_purpura_distance(segment_D.spiketrains)"
   ]
  },
  {
   "cell_type": "markdown",
   "id": "65a32531",
   "metadata": {},
   "source": [
    "Create plots with a colorbar for all cases."
   ]
  },
  {
   "cell_type": "code",
   "execution_count": 32,
   "id": "11653219",
   "metadata": {},
   "outputs": [
    {
     "data": {
      "image/png": "[encoded data removed]",
      "text/plain": [
       "<Figure size 792x792 with 5 Axes>"
      ]
     },
     "metadata": {
      "needs_background": "light"
     },
     "output_type": "display_data"
    }
   ],
   "source": [
    "fig, axes = plt.subplots(nrows=2, ncols=2)\n",
    "im=axes.flat[0].imshow(pairwise_vp_distance_A)\n",
    "axes.flat[0].set_xlabel('Neuron')\n",
    "axes.flat[0].set_ylabel('Neuron')\n",
    "axes.flat[0].set_title(\"VP distance case A\")\n",
    "\n",
    "im=axes.flat[1].imshow(pairwise_vp_distance_B)\n",
    "axes.flat[1].set_xlabel('Neuron')\n",
    "axes.flat[1].set_ylabel('Neuron')\n",
    "axes.flat[1].set_title(\"VP distance case B\")\n",
    "\n",
    "im=axes.flat[2].imshow(pairwise_vp_distance_C)\n",
    "axes.flat[2].set_xlabel('Neuron')\n",
    "axes.flat[2].set_ylabel('Neuron')\n",
    "axes.flat[2].set_title(\"VP distance case C\")\n",
    "\n",
    "im=axes.flat[3].imshow(pairwise_vp_distance_D)\n",
    "axes.flat[3].set_xlabel('Neuron')\n",
    "axes.flat[3].set_ylabel('Neuron')\n",
    "axes.flat[3].set_title(\"VP distance case D\")\n",
    "\n",
    "plt.colorbar(im, ax=axes.ravel().tolist()) # add colorbar\n",
    "\n",
    "fig=gcf()\n",
    "fig.set_size_inches(11,11)"
   ]
  },
  {
   "cell_type": "code",
   "execution_count": 33,
   "id": "95bb1852-6550-4252-ac4e-6ce67acf6363",
   "metadata": {},
   "outputs": [],
   "source": [
    "# clear up working directory: remove simulation results\n",
    "!rm -f A-brunel-py-ex-2502-0.gdf\n",
    "!rm -f A-brunel-py-in-2503-0.gdf"
   ]
  },
  {
   "cell_type": "code",
   "execution_count": null,
   "id": "4b86e3ad-e90e-40d1-8507-d6fcb09ade84",
   "metadata": {},
   "outputs": [],
   "source": []
  }
 ],
 "metadata": {
  "kernelspec": {
   "display_name": "EBRAINS-23.02",
   "language": "python",
   "name": "ebrains-23.02"
  },
  "language_info": {
   "codemirror_mode": {
    "name": "ipython",
    "version": 3
   },
   "file_extension": ".py",
   "mimetype": "text/x-python",
   "name": "python",
   "nbconvert_exporter": "python",
   "pygments_lexer": "ipython3",
   "version": "3.8.11"
  }
 },
 "nbformat": 4,
 "nbformat_minor": 5
}
